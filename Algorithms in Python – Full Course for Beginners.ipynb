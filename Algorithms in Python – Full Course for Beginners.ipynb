{
 "cells": [
  {
   "cell_type": "markdown",
   "id": "50f1d396-346b-4ff3-9118-9416e5ec1ca1",
   "metadata": {},
   "source": [
    "## Algorithms in Python – Full Course for Beginners ##"
   ]
  },
  {
   "cell_type": "code",
   "execution_count": 6,
   "id": "d2705b02-4c4d-4bf0-8c17-c1754bf3513b",
   "metadata": {},
   "outputs": [],
   "source": [
    "def interative_factorial(n):\n",
    "    fact = 1\n",
    "    for i in range(2,n+1):\n",
    "        fact *= i\n",
    "    return fact"
   ]
  },
  {
   "cell_type": "code",
   "execution_count": 7,
   "id": "6f3c2fa5-cab6-4af3-b16f-0a0ac934b331",
   "metadata": {},
   "outputs": [
    {
     "data": {
      "text/plain": [
       "120"
      ]
     },
     "execution_count": 7,
     "metadata": {},
     "output_type": "execute_result"
    }
   ],
   "source": [
    "interative_factorial(5)"
   ]
  },
  {
   "cell_type": "code",
   "execution_count": 12,
   "id": "093d85f6-6ac1-4af8-9516-50a258948d82",
   "metadata": {},
   "outputs": [
    {
     "name": "stdout",
     "output_type": "stream",
     "text": [
      "120\n"
     ]
    }
   ],
   "source": [
    "def recur_factorial(n):\n",
    "    if n ==1:\n",
    "        return n\n",
    "    else:\n",
    "        temp = recur_factorial(n-1)\n",
    "        temp = temp * n\n",
    "    return temp\n",
    "print(recur_factorial(5))\n"
   ]
  },
  {
   "cell_type": "code",
   "execution_count": 14,
   "id": "9eed6ef7-31dd-41d7-919c-2501134593a5",
   "metadata": {},
   "outputs": [
    {
     "name": "stdout",
     "output_type": "stream",
     "text": [
      "120\n"
     ]
    }
   ],
   "source": [
    "def recur_factorial(n):\n",
    "    if n == 1: return n \n",
    "    else: return n * recur_factorial(n-1)\n",
    "print(recur_factorial(5))"
   ]
  },
  {
   "cell_type": "code",
   "execution_count": 18,
   "id": "1bbaebcd-7bdc-4861-80e0-4a42e3cd7f47",
   "metadata": {},
   "outputs": [
    {
     "name": "stdout",
     "output_type": "stream",
     "text": [
      "BA\n",
      "AB\n",
      "None\n"
     ]
    }
   ],
   "source": [
    "def permute(string, pocket = \"\"):\n",
    "    if len(string) == 0:\n",
    "        print(pocket)\n",
    "    else: \n",
    "        for i in range(len(string)):\n",
    "            letter = string[i]\n",
    "            front = string[0:i]\n",
    "            back = string[i+1:]\n",
    "            together = front + back\n",
    "            permute(together, letter + pocket)\n",
    "print(permute(\"AB\",\"\"))"
   ]
  },
  {
   "cell_type": "code",
   "execution_count": 19,
   "id": "d97800ab-4b59-42cb-8b99-94f1d8d9987b",
   "metadata": {},
   "outputs": [],
   "source": [
    "from math import factorial"
   ]
  },
  {
   "cell_type": "code",
   "execution_count": 22,
   "id": "d116c398-f0a0-444e-aa9b-77eb8fdbcdde",
   "metadata": {},
   "outputs": [
    {
     "name": "stdout",
     "output_type": "stream",
     "text": [
      "abc\n",
      "acb\n",
      "bac\n",
      "bca\n",
      "cab\n",
      "cba\n",
      "None\n"
     ]
    }
   ],
   "source": [
    "def permuations(str):\n",
    "    for p in range(factorial(len(str))):\n",
    "        print(\"\".join(str))\n",
    "        i = len(str) - 1\n",
    "        while i > 0 and str[i - 1] > str[i]:\n",
    "            i -= 1\n",
    "        str[i:] = reversed(str[i:])\n",
    "        if i > 0:\n",
    "            q = i\n",
    "            while str[i - 1] > str[q]:\n",
    "                q +=1\n",
    "            temp = str[i - 1]\n",
    "            str[i - 1] = str[q]\n",
    "            str[q] = temp\n",
    "s = \"abc\"\n",
    "s = list(s)\n",
    "print(permuations(s))           "
   ]
  },
  {
   "cell_type": "code",
   "execution_count": 24,
   "id": "e44bd29b-c77b-433f-aea5-569bbfb7db65",
   "metadata": {},
   "outputs": [],
   "source": [
    "import numpy as np"
   ]
  },
  {
   "cell_type": "code",
   "execution_count": 28,
   "id": "e7c47ca2-ebd2-44eb-a2d5-780d543d507e",
   "metadata": {},
   "outputs": [
    {
     "name": "stdout",
     "output_type": "stream",
     "text": [
      "4\n"
     ]
    }
   ],
   "source": [
    "def search(arr, target):\n",
    "    for i in range(len(arr)):\n",
    "        if arr[i] == target:\n",
    "            return i\n",
    "\n",
    "arr = [2,5,8,9,10,16,22]\n",
    "target = 10\n",
    "print(search(arr,target))"
   ]
  },
  {
   "cell_type": "raw",
   "id": "5f5efc3f-e3a8-4350-a8f0-32a67c3d7678",
   "metadata": {},
   "source": [
    "iterative binary search"
   ]
  },
  {
   "cell_type": "code",
   "execution_count": 1,
   "id": "9c54d453-a418-40ea-8c3e-58a97ffb3cc6",
   "metadata": {},
   "outputs": [
    {
     "name": "stdout",
     "output_type": "stream",
     "text": [
      "Element is present at index %d  2\n"
     ]
    }
   ],
   "source": [
    "def binary_itr(arr,start,end,target):\n",
    "    while start <= end:\n",
    "        mid = (start + end)//2\n",
    "        if arr[mid] < target:\n",
    "            start = mid +1      \n",
    "            \n",
    "        elif arr[mid]> target:\n",
    "            end = mid -1\n",
    "        else:\n",
    "            return mid\n",
    "    return start\n",
    "\n",
    "arr = [2,5,8,10,16,22,25]\n",
    "target = 8\n",
    "\n",
    "result = binary_itr(arr,0,len(arr) -1,target)\n",
    "\n",
    "if result != -1:\n",
    "    print(f\"Element is present at index %d  {result}\")\n",
    "else:\n",
    "    print(\"Element is not present in array\")\n",
    "    "
   ]
  },
  {
   "cell_type": "raw",
   "id": "8f4db784-1fe5-4585-a5bc-8de5fe312945",
   "metadata": {},
   "source": [
    "RECURSIVE BINARY SEARCH"
   ]
  },
  {
   "cell_type": "code",
   "execution_count": 5,
   "id": "4a9c7231-10f0-422d-a981-0dedc0c3f5fc",
   "metadata": {},
   "outputs": [
    {
     "name": "stdout",
     "output_type": "stream",
     "text": [
      "Element is present at index %d  2\n"
     ]
    }
   ],
   "source": [
    "def binary_recur(arr,start, end, target):\n",
    "    if end >= start:\n",
    "        mid = (start + end)//2\n",
    "        \n",
    "        if arr[mid] < target:\n",
    "            binary_recur(arr,mid + 1, end ,target)\n",
    "            \n",
    "        elif arr[mid] > target:\n",
    "            return binary_recur(arr,start,mid - 1, target)\n",
    "        else:\n",
    "            return mid\n",
    "    else:\n",
    "        return - 1\n",
    "\n",
    "\n",
    "\n",
    "\n",
    "arr = [2,5,8,10,16,22,25]\n",
    "target = 8\n",
    "result = binary_itr(arr,0,len(arr) -1,target)\n",
    "\n",
    "\n",
    "if result != -1:\n",
    "    print(f\"Element is present at index %d  {result}\")\n",
    "else:\n",
    "    print(\"Element is not present in array\")\n"
   ]
  },
  {
   "cell_type": "markdown",
   "id": "551ba277-4bfc-49b3-aa00-3bc46c2f2ab5",
   "metadata": {},
   "source": [
    "## bubble sort"
   ]
  },
  {
   "cell_type": "code",
   "execution_count": 8,
   "id": "5e5f1c43-0cf6-492e-9f4d-76a6e1cdcbc6",
   "metadata": {},
   "outputs": [
    {
     "name": "stdout",
     "output_type": "stream",
     "text": [
      "([1, 9, 8, 7, 6, 5, 4, 3, 2], 36)\n"
     ]
    }
   ],
   "source": [
    "# Bubble sort - optimized vs. unoptimised \n",
    "\n",
    "\n",
    "def swap(A,i,j):\n",
    "    temp = A[j]\n",
    "    A[i] = A[j]\n",
    "    A[j] = temp\n",
    "\n",
    "\n",
    "def bubble_ompit(A):\n",
    "    iterations = 0\n",
    "    for i in range(len(A)):\n",
    "        for j in range(len(A) -i-1):\n",
    "            iterations +=1\n",
    "        if A[j] > A[j+1]:\n",
    "            A[j], A[j+1] = A[j+1], A[j]\n",
    "    return A, iterations\n",
    "    \n",
    "            \n",
    "\n",
    "\n",
    "A = [9,8,7,6,5,4,3,2,1]\n",
    "print(bubble_ompit(A))\n"
   ]
  },
  {
   "cell_type": "code",
   "execution_count": 10,
   "id": "a3307c43-a878-4fbe-b51f-492edb1b6d7f",
   "metadata": {},
   "outputs": [
    {
     "name": "stdout",
     "output_type": "stream",
     "text": [
      "([1, 2, 3, 4, 5, 6, 7, 8, 9], 72)\n"
     ]
    }
   ],
   "source": [
    "def swap(A,i,j):\n",
    "    temp = A[i]\n",
    "    A[i] = A[j]\n",
    "    A[j] = temp\n",
    "\n",
    "def bubble_sort_un_op(A):\n",
    "    iterations = 0\n",
    "\n",
    "    \n",
    "    for i in A:\n",
    "        for j in range(len(A)-1):\n",
    "            iterations +=1 \n",
    "            \n",
    "            if A[j]> A[j+1]:\n",
    "                \n",
    "                swap(A,j,j+1)\n",
    "    return A,iterations\n",
    "\n",
    "A = [9,8,7,6,5,4,3,2,1]\n",
    "print(bubble_sort_un_op(A))\n",
    "\n",
    "\n",
    "\n",
    "\n",
    "\n",
    "\n",
    "\n"
   ]
  },
  {
   "cell_type": "raw",
   "id": "31d50bb4-9338-4273-9a6d-51f592fb34a9",
   "metadata": {},
   "source": [
    "insert sort"
   ]
  },
  {
   "cell_type": "code",
   "execution_count": 13,
   "id": "3652c02b-48dc-4644-bf25-5d1b8f8d90ed",
   "metadata": {},
   "outputs": [
    {
     "name": "stdout",
     "output_type": "stream",
     "text": [
      "[1, 2, 3, 4, 5, 6]\n"
     ]
    }
   ],
   "source": [
    "#INSERTION SOR - SHIFTING ELEMENTS\n",
    "\n",
    "def insert_sort(A):\n",
    "    for j in range(1,len(A)):\n",
    "        key = A[j]\n",
    "        i = j-1\n",
    "        while i >= 0 and A[i] > key:\n",
    "            \n",
    "            A[i + 1]= A[i]\n",
    "            i -= 1\n",
    "        A[i+1] = key\n",
    "    return A\n",
    "\n",
    "A = [5,2,4,6,1,3]\n",
    "print(insert_sort(A))\n",
    "\n",
    "\n"
   ]
  },
  {
   "cell_type": "code",
   "execution_count": null,
   "id": "33cee432-8f80-4bba-9f28-c51d2e588d0f",
   "metadata": {},
   "outputs": [],
   "source": []
  }
 ],
 "metadata": {
  "kernelspec": {
   "display_name": "Python 3 (ipykernel)",
   "language": "python",
   "name": "python3"
  },
  "language_info": {
   "codemirror_mode": {
    "name": "ipython",
    "version": 3
   },
   "file_extension": ".py",
   "mimetype": "text/x-python",
   "name": "python",
   "nbconvert_exporter": "python",
   "pygments_lexer": "ipython3",
   "version": "3.12.0"
  }
 },
 "nbformat": 4,
 "nbformat_minor": 5
}
